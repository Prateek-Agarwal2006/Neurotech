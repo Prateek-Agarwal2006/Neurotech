{
 "cells": [
  {
   "cell_type": "code",
   "execution_count": 10,
   "id": "97de3133-7d5e-484a-9082-7e61e60b2538",
   "metadata": {},
   "outputs": [],
   "source": [
    "import numpy as np\n",
    "import mne"
   ]
  },
  {
   "cell_type": "code",
   "execution_count": 11,
   "id": "e297831e-98a4-4347-9e60-41ea56bea2df",
   "metadata": {},
   "outputs": [],
   "source": [
    "data=np.loadtxt(\"eeg-data.txt\")\n",
    "signal=data[:]"
   ]
  },
  {
   "cell_type": "code",
   "execution_count": 12,
   "id": "d780f836-a3e0-4325-a08d-dc461730875f",
   "metadata": {},
   "outputs": [
    {
     "name": "stdout",
     "output_type": "stream",
     "text": [
      "Creating RawArray with float64 data, n_channels=1, n_times=3000\n",
      "    Range : 0 ... 2999 =      0.000 ...    29.990 secs\n",
      "Ready.\n"
     ]
    }
   ],
   "source": [
    "sfreq = 100\n",
    "info = mne.create_info(ch_names=['EEG'], sfreq=sfreq, ch_types=['eeg'])\n",
    "raw_data = mne.io.RawArray(data.reshape(1, -1), info=info)"
   ]
  },
  {
   "cell_type": "code",
   "execution_count": 13,
   "id": "efad2b3a-b924-4995-acaf-4aa8baa9d9e7",
   "metadata": {},
   "outputs": [
    {
     "name": "stdout",
     "output_type": "stream",
     "text": [
      "Effective window size : 2.560 (s)\n"
     ]
    }
   ],
   "source": [
    "frequency_bands = {\n",
    "    'Delta': (1, 4),\n",
    "    'Theta': (4, 8),\n",
    "    'Alpha': (8, 13),\n",
    "    'Beta': (13, 30)\n",
    "}\n",
    "psds, freqs = mne.time_frequency.psd_array_welch(raw_data.get_data(), sfreq=sfreq, fmin=0.5, fmax=30)"
   ]
  },
  {
   "cell_type": "code",
   "execution_count": 14,
   "id": "099f747f-709e-4cb7-a11e-445b89fc96cc",
   "metadata": {},
   "outputs": [
    {
     "name": "stdout",
     "output_type": "stream",
     "text": [
      "Absolute Bandpowers: {'Delta': 384.2000368336033, 'Theta': 90.6767476656276, 'Alpha': 47.42722466517382, 'Beta': 12.54394591419076}\n",
      "Relative Bandpowers: {'Delta': 0.53108273295183, 'Theta': 0.1253431815424361, 'Alpha': 0.06555902570725092, 'Beta': 0.017339595105228013}\n",
      "The highest relative bandpower: Delta\n"
     ]
    }
   ],
   "source": [
    "\n",
    "absolute_bandpowers = {}\n",
    "relative_bandpowers = {}\n",
    "\n",
    "total_power = np.sum(psds, axis=1)\n",
    "\n",
    "for band_name, (fmin, fmax) in frequency_bands.items():\n",
    "    logic_band = np.logical_and(freqs >= fmin, freqs <= fmax)\n",
    "    band_power = np.sum(psds[:, logic_band], axis=1)\n",
    "    absolute_bandpowers[band_name] = np.mean(band_power)\n",
    "    relative_bandpowers[band_name] = np.mean(band_power / total_power)\n",
    "    \n",
    "print(\"Absolute Bandpowers:\", absolute_bandpowers)\n",
    "print(\"Relative Bandpowers:\", relative_bandpowers)\n",
    "\n",
    "max_relative_bandpower_band = max(relative_bandpowers, key=relative_bandpowers.get)\n",
    "print(f\"The highest relative bandpower: {max_relative_bandpower_band}\")\n"
   ]
  },
  {
   "cell_type": "code",
   "execution_count": 15,
   "id": "6435d433-666b-4d14-a15d-7bdbf4af0f33",
   "metadata": {},
   "outputs": [
    {
     "name": "stdout",
     "output_type": "stream",
     "text": [
      "Bandpowers using Multitaper are : {'Delta': 5590.932088444477, 'Theta': 1093.3900779367464, 'Alpha': 495.4761151479902, 'Beta': 145.25095901157152}\n",
      "Relative Bandpowers using Multitaper Method: {'Delta': 0.5009115301236374, 'Theta': 0.09796071357999252, 'Alpha': 0.044391470876826065, 'Beta': 0.013013551046486582}\n",
      "Frequency band with the highest relative bandpower using Multitaper Method: Delta\n"
     ]
    }
   ],
   "source": [
    "psds, freqs = mne.time_frequency.psd_array_multitaper(data, sfreq=sfreq, fmin=0.5, fmax=30, adaptive=True, normalization='full', verbose=False)\n",
    "bandpowers = {}\n",
    "\n",
    "for band, (fmin, fmax) in frequency_bands.items():\n",
    "    \n",
    "    logic_band = np.logical_and(freqs >= fmin, freqs <= fmax)\n",
    "    band_power = np.sum(psds[logic_band])\n",
    "    bandpowers[band] = band_power\n",
    "\n",
    "print(\"Bandpowers using Multitaper are :\", bandpowers)\n",
    "\n",
    "total_power = np.sum(psds)\n",
    "relative_bandpowers = {}\n",
    "\n",
    "for band, band_power in bandpowers.items():\n",
    "    relative_power = band_power / total_power\n",
    "    relative_bandpowers[band] = relative_power\n",
    "\n",
    "print(\"Relative Bandpowers using Multitaper Method:\", relative_bandpowers)\n",
    "\n",
    "max_relative_band = max(relative_bandpowers, key=relative_bandpowers.get)\n",
    "print(f\"Frequency band with the highest relative bandpower using Multitaper Method: {max_relative_band}\")"
   ]
  },
  {
   "cell_type": "code",
   "execution_count": null,
   "id": "4009d759-a598-4aaa-ab93-a63467645a19",
   "metadata": {},
   "outputs": [],
   "source": []
  }
 ],
 "metadata": {
  "kernelspec": {
   "display_name": "Python 3 (ipykernel)",
   "language": "python",
   "name": "python3"
  },
  "language_info": {
   "codemirror_mode": {
    "name": "ipython",
    "version": 3
   },
   "file_extension": ".py",
   "mimetype": "text/x-python",
   "name": "python",
   "nbconvert_exporter": "python",
   "pygments_lexer": "ipython3",
   "version": "3.11.5"
  }
 },
 "nbformat": 4,
 "nbformat_minor": 5
}
